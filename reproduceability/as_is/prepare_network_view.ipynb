{
 "cells": [
  {
   "cell_type": "markdown",
   "metadata": {},
   "source": [
    "In this file we need, (1) the output from the infomap clustering. (2) the thresholded adjacency matrix. (3) node ordering\n",
    "\n",
    "For node ordering, cytoscape was used graphically due to its implementation edge-weighted spring embedded layout (http://cytoscape.org/)"
   ]
  },
  {
   "cell_type": "code",
   "execution_count": null,
   "metadata": {
    "collapsed": false
   },
   "outputs": [],
   "source": [
    "import networkx as nx\n",
    "import pandas as pd\n",
    "import plotly.plotly as py\n",
    "import plotly.graph_objs as go\n",
    "import plotly.offline as pyof\n",
    "import numpy as np"
   ]
  },
  {
   "cell_type": "markdown",
   "metadata": {},
   "source": [
    "Function defines Returns a pos x and y corrdinates for nodenames from a cyjs file."
   ]
  },
  {
   "cell_type": "code",
   "execution_count": null,
   "metadata": {
    "collapsed": false
   },
   "outputs": [],
   "source": [
    "def get_pos_from_cyjs(cytodat):\n",
    "    cytodat_nodes=list(cytodat.elements['nodes'])\n",
    "    nodePositions=[]\n",
    "    nodeNames=[]\n",
    "    for node in range(0,len(cytodat_nodes)):\n",
    "        nodePositions.append(np.array([cytodat_nodes[node]['position']['x'], cytodat_nodes[node]['position']['y']]))\n",
    "        nodeNames.append(cytodat_nodes[node]['data']['name'])\n",
    "    return nodePositions,nodeNames"
   ]
  },
  {
   "cell_type": "markdown",
   "metadata": {},
   "source": [
    "Load data"
   ]
  },
  {
   "cell_type": "code",
   "execution_count": null,
   "metadata": {
    "collapsed": false
   },
   "outputs": [],
   "source": [
    "# Node positions were first place in the GUI of Cytoscape\n",
    "# Import data\n",
    "dat=pd.read_csv('./thnetwork.csv')\n",
    "clustdat=pd.read_csv('./thnetwork_infomap.csv')\n",
    "cytodat = pd.read_json('./cyto_layout_3may2016.cyjs')"
   ]
  },
  {
   "cell_type": "markdown",
   "metadata": {},
   "source": [
    "Convert pandas to networkx"
   ]
  },
  {
   "cell_type": "code",
   "execution_count": null,
   "metadata": {
    "collapsed": false
   },
   "outputs": [],
   "source": [
    "G=nx.from_pandas_dataframe(dat,'From','To','Overlap',nx.DiGraph())\n",
    "edgeNames = list(G.edges())\n",
    "nodePositions,nodeNames = get_pos_from_cyjs(cytodat)"
   ]
  },
  {
   "cell_type": "markdown",
   "metadata": {},
   "source": [
    "The interactive part of the figure was made in plot.ly. An account will be needed there to get parts of this code to work."
   ]
  },
  {
   "cell_type": "markdown",
   "metadata": {},
   "source": [
    "Plot the edges. First defines an edge_trace object, then loops through all edges"
   ]
  },
  {
   "cell_type": "code",
   "execution_count": null,
   "metadata": {
    "collapsed": false
   },
   "outputs": [],
   "source": [
    "edge_trace = go.Scatter(\n",
    "    x=[],\n",
    "    y=[],\n",
    "    line=go.Line(width=0.5,color='#999'),\n",
    "    hoverinfo='none',\n",
    "    mode='lines',\n",
    "    opacity=0.4)\n",
    "\n",
    "for edge in range(0,len(edgeNames)):\n",
    "    x0,y0=nodePositions[nodeNames.index(edgeNames[edge][0])]\n",
    "    x1,y1=nodePositions[nodeNames.index(edgeNames[edge][1])]\n",
    "    #abs(x0-x1)<abs(y0-y1) : then curve y axis, otherwise x axis.\n",
    "    #if y0>y1:, make x,y y,x otherwise, y,x x,\n",
    "    edge_trace['x'] += [x0, x1, None]\n",
    "    edge_trace['y'] += [y0, y1, None]\n",
    "\n",
    "\n",
    "edge_trace_direction=[]\n",
    "for edge in range(0,len(edgeNames)):\n",
    "    edge_trace_direction_tmp = go.Scatter(\n",
    "\n",
    "        x=[],\n",
    "        y=[],\n",
    "        line=go.Line(\n",
    "        #Create multiple widths. wo\n",
    "            width=list(G[edgeNames[edge][0]][edgeNames[edge][1]].values())[0]*30,\n",
    "            color='#666'),\n",
    "        hoverinfo='none',\n",
    "        mode='lines',\n",
    "        opacity=0.5)\n",
    "    x0,y0=nodePositions[nodeNames.index(edgeNames[edge][1])]\n",
    "    x1,y1=nodePositions[nodeNames.index(edgeNames[edge][0])]\n",
    "    #edge_trace_direction_tmp.line.width.append()\n",
    "    #abs(x0-x1)<abs(y0-y1) : then curve y axis, otherwise x axis.\n",
    "    #if y0>y1:, make x,y y,x otherwise, y,x x,\n",
    "    vec=np.array([x0-x1,y0-y1])\n",
    "    vec=vec/sum(abs(vec)) #make unit vector\n",
    "    edge_trace_direction_tmp['x'].append(x0-50*vec[0])\n",
    "    edge_trace_direction_tmp['x'].append(x0-100*vec[0])\n",
    "    edge_trace_direction_tmp['y'].append(y0-50*vec[1])\n",
    "    edge_trace_direction_tmp['y'].append(y0-100*vec[1])\n",
    "    edge_trace_direction_tmp['x'].append(None)\n",
    "    edge_trace_direction_tmp['y'].append(None)\n",
    "    edge_trace_direction.append(edge_trace_direction_tmp)"
   ]
  },
  {
   "cell_type": "markdown",
   "metadata": {},
   "source": [
    "Plot the nodes."
   ]
  },
  {
   "cell_type": "code",
   "execution_count": null,
   "metadata": {
    "collapsed": false
   },
   "outputs": [],
   "source": [
    "#SSpecify colors to use\n",
    "node_color=['rgb(120,120,120)','rgb(244,102,102)','rgb(106,168,79)','rgb(30,132,226)','rgb(240,152,37)','rgb(175,37,240)','rgb(120,120,120)','rgb(23,190,207)']\n",
    "node_trace=[]\n",
    "for node in range(0,len(nodeNames)):\n",
    "    nind = list(clustdat['Name']).index(nodeNames[node])\n",
    "    cind = clustdat['InfoMapClusterNames'][nind]\n",
    "    cindl1 = clustdat['InfoMapL1'][nind]\n",
    "    if clustdat['Network Type'][nind]=='PCN':\n",
    "        nodeWidth=0.5\n",
    "    else:\n",
    "        nodeWidth=2\n",
    "    node_trace_tmp = go.Scatter(\n",
    "        x=[],\n",
    "        y=[],\n",
    "        text=[],\n",
    "        mode='markers',\n",
    "        hoverinfo='text',\n",
    "        marker=go.Marker(\n",
    "            showscale=False,\n",
    "            # colorscale options\n",
    "            # 'Greys' | 'Greens' | 'Bluered' | 'Hot' | 'Picnic' | 'Portland' |\n",
    "            # Jet' | 'RdBu' | 'Blackbody' | 'Earth' | 'Electric' | 'YIOrRd' | 'YIGnBu'\n",
    "            opacity = .9,\n",
    "            color=node_color[cindl1],\n",
    "            size=clustdat['overlapWeight'][nind]*15,\n",
    "            colorbar=dict(\n",
    "                thickness=15,\n",
    "                title='Cluster (Level 1)',\n",
    "                xanchor='left',\n",
    "                titleside='right'\n",
    "            ),\n",
    "            line=dict(width=nodeWidth)))\n",
    "\n",
    "    x,y=nodePositions[node]\n",
    "    node_trace_tmp['x'].append(x)\n",
    "    node_trace_tmp['y'].append(y)\n",
    "    node_trace_tmp.text.append(nodeNames[node] + ' - ' + str(cind))\n",
    "    node_trace.append(node_trace_tmp)"
   ]
  },
  {
   "cell_type": "markdown",
   "metadata": {},
   "source": [
    "Collect all data from above and send to plot.ly"
   ]
  },
  {
   "cell_type": "code",
   "execution_count": null,
   "metadata": {
    "collapsed": false
   },
   "outputs": [],
   "source": [
    "dataCollect = []\n",
    "dataCollect.append(edge_trace)\n",
    "dataCollect.extend(edge_trace_direction)\n",
    "dataCollect.extend(node_trace)\n",
    "\n",
    "fig = go.Figure(data=go.Data(dataCollect),\n",
    "             layout=go.Layout(\n",
    "                title='Figure 1b',\n",
    "                titlefont=dict(size=16),\n",
    "                showlegend=False,\n",
    "                width=650,\n",
    "                height=650,\n",
    "                hovermode='closest',\n",
    "                margin=dict(b=20,l=5,r=5,t=40),\n",
    "                annotations=[ dict(\n",
    "                    text=\"\",\n",
    "                    showarrow=False,\n",
    "                    xref=\"paper\", yref=\"paper\",\n",
    "                    x=0.005, y=-0.002 ) ],\n",
    "                xaxis=go.XAxis(showgrid=False, zeroline=False, showticklabels=False),\n",
    "                yaxis=go.YAxis(showgrid=False, zeroline=False, showticklabels=False)))\n",
    "\n",
    "py.iplot(fig, filename='networkx')\n",
    "\n",
    "pyof.plot(fig)"
   ]
  }
 ],
 "metadata": {},
 "nbformat": 4,
 "nbformat_minor": 0
}
